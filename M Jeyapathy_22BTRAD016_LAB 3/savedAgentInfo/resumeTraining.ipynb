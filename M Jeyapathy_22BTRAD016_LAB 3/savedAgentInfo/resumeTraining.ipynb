{
 "cells": [
  {
   "cell_type": "code",
   "execution_count": 1,
   "id": "8d022e1d",
   "metadata": {},
   "outputs": [],
   "source": [
    "import os  \n",
    "import gym  \n",
    "from stable_baselines3 import PPO  \n",
    "from stable_baselines3.common.callbacks import CheckpointCallback, EvalCallback "
   ]
  },
  {
   "cell_type": "code",
   "execution_count": 2,
   "id": "4ad82db7",
   "metadata": {},
   "outputs": [],
   "source": [
    "def create_environment(game_name):  \n",
    "    return gym.make(game_name)  \n",
    "  \n",
    "def load_model(checkpoint_path, environment):  \n",
    "    model = PPO.load(checkpoint_path, env=environment)  \n",
    "    return model  "
   ]
  },
  {
   "cell_type": "code",
   "execution_count": 3,
   "id": "4c8e92e7",
   "metadata": {},
   "outputs": [],
   "source": [
    "def train_model(model, environment, save_path, save_freq, total_timesteps):  \n",
    "    checkpoint_callback = CheckpointCallback(save_freq=save_freq, save_path=save_path)  \n",
    "    eval_callback = EvalCallback(environment, best_model_save_path=save_path,  \n",
    "                                 log_path=save_path, eval_freq=save_freq)  \n",
    "    model.learn(total_timesteps=total_timesteps, callback=[checkpoint_callback, eval_callback])  "
   ]
  },
  {
   "cell_type": "code",
   "execution_count": 4,
   "id": "18722b58",
   "metadata": {},
   "outputs": [],
   "source": [
    "def main():  \n",
    "    game_name = 'ALE/Pong'  # Replace with your actual game  \n",
    "    save_path = 'trained_models/Pong'  # Replace with your actual save path  \n",
    "    os.makedirs(save_path, exist_ok=True)  \n",
    "  \n",
    "    environment = create_environment(game_name)  \n",
    "  \n",
    "    # Ensure the checkpoint path matches the last checkpoint's filename  \n",
    "    checkpoint_path = os.path.join(save_path, 'rl_model_10000_steps.zip')  # Replace XXXXXX with the actual step number  \n",
    "  \n",
    "    model = load_model(checkpoint_path, environment)  \n",
    "    train_model(model, environment, save_path, save_freq=10000, total_timesteps=10000)  # Adjust as needed  "
   ]
  },
  {
   "cell_type": "code",
   "execution_count": 5,
   "id": "376bbb65",
   "metadata": {
    "scrolled": false
   },
   "outputs": [
    {
     "name": "stderr",
     "output_type": "stream",
     "text": [
      "/Users/ankitdas/anaconda3/lib/python3.11/site-packages/gym/envs/registration.py:563: UserWarning: \u001b[33mWARN: Using the latest versioned environment `ALE/Pong-v5` instead of the unversioned environment `ALE/Pong`.\u001b[0m\n",
      "  logger.warn(\n",
      "A.L.E: Arcade Learning Environment (version 0.8.1+53f58b7)\n",
      "[Powered by Stella]\n",
      "/Users/ankitdas/anaconda3/lib/python3.11/site-packages/stable_baselines3/common/vec_env/patch_gym.py:49: UserWarning: You provided an OpenAI Gym environment. We strongly recommend transitioning to Gymnasium environments. Stable-Baselines3 is automatically wrapping your environments in a compatibility layer, which could potentially cause issues.\n",
      "  warnings.warn(\n"
     ]
    },
    {
     "name": "stdout",
     "output_type": "stream",
     "text": [
      "Wrapping the env with a `Monitor` wrapper\n",
      "Wrapping the env in a DummyVecEnv.\n",
      "Wrapping the env in a VecTransposeImage.\n"
     ]
    },
    {
     "name": "stderr",
     "output_type": "stream",
     "text": [
      "/Users/ankitdas/anaconda3/lib/python3.11/site-packages/stable_baselines3/common/vec_env/patch_gym.py:49: UserWarning: You provided an OpenAI Gym environment. We strongly recommend transitioning to Gymnasium environments. Stable-Baselines3 is automatically wrapping your environments in a compatibility layer, which could potentially cause issues.\n",
      "  warnings.warn(\n",
      "/Users/ankitdas/anaconda3/lib/python3.11/site-packages/stable_baselines3/common/callbacks.py:414: UserWarning: Training and eval env are not of the same type<stable_baselines3.common.vec_env.vec_transpose.VecTransposeImage object at 0x28edf1110> != <stable_baselines3.common.vec_env.dummy_vec_env.DummyVecEnv object at 0x28edcb8d0>\n",
      "  warnings.warn(\"Training and eval env are not of the same type\" f\"{self.training_env} != {self.eval_env}\")\n",
      "/Users/ankitdas/anaconda3/lib/python3.11/site-packages/gym/utils/passive_env_checker.py:233: DeprecationWarning: `np.bool8` is a deprecated alias for `np.bool_`.  (Deprecated NumPy 1.24)\n",
      "  if not isinstance(terminated, (bool, np.bool8)):\n"
     ]
    },
    {
     "name": "stdout",
     "output_type": "stream",
     "text": [
      "---------------------------------\n",
      "| rollout/           |          |\n",
      "|    ep_len_mean     | 1.27e+03 |\n",
      "|    ep_rew_mean     | -19      |\n",
      "| time/              |          |\n",
      "|    fps             | 354      |\n",
      "|    iterations      | 1        |\n",
      "|    time_elapsed    | 5        |\n",
      "|    total_timesteps | 2048     |\n",
      "---------------------------------\n",
      "----------------------------------------\n",
      "| rollout/                |            |\n",
      "|    ep_len_mean          | 1.15e+03   |\n",
      "|    ep_rew_mean          | -20        |\n",
      "| time/                   |            |\n",
      "|    fps                  | 40         |\n",
      "|    iterations           | 2          |\n",
      "|    time_elapsed         | 101        |\n",
      "|    total_timesteps      | 4096       |\n",
      "| train/                  |            |\n",
      "|    approx_kl            | 0.15057607 |\n",
      "|    clip_fraction        | 0.612      |\n",
      "|    clip_range           | 0.2        |\n",
      "|    entropy_loss         | -1.5       |\n",
      "|    explained_variance   | 0.3        |\n",
      "|    learning_rate        | 0.0003     |\n",
      "|    loss                 | -0.133     |\n",
      "|    n_updates            | 90         |\n",
      "|    policy_gradient_loss | -0.109     |\n",
      "|    value_loss           | 0.032      |\n",
      "----------------------------------------\n",
      "----------------------------------------\n",
      "| rollout/                |            |\n",
      "|    ep_len_mean          | 1.14e+03   |\n",
      "|    ep_rew_mean          | -19.6      |\n",
      "| time/                   |            |\n",
      "|    fps                  | 31         |\n",
      "|    iterations           | 3          |\n",
      "|    time_elapsed         | 198        |\n",
      "|    total_timesteps      | 6144       |\n",
      "| train/                  |            |\n",
      "|    approx_kl            | 0.12769881 |\n",
      "|    clip_fraction        | 0.608      |\n",
      "|    clip_range           | 0.2        |\n",
      "|    entropy_loss         | -1.46      |\n",
      "|    explained_variance   | 0.458      |\n",
      "|    learning_rate        | 0.0003     |\n",
      "|    loss                 | -0.142     |\n",
      "|    n_updates            | 100        |\n",
      "|    policy_gradient_loss | -0.104     |\n",
      "|    value_loss           | 0.0229     |\n",
      "----------------------------------------\n",
      "---------------------------------------\n",
      "| rollout/                |           |\n",
      "|    ep_len_mean          | 1.14e+03  |\n",
      "|    ep_rew_mean          | -19.3     |\n",
      "| time/                   |           |\n",
      "|    fps                  | 28        |\n",
      "|    iterations           | 4         |\n",
      "|    time_elapsed         | 291       |\n",
      "|    total_timesteps      | 8192      |\n",
      "| train/                  |           |\n",
      "|    approx_kl            | 0.1680386 |\n",
      "|    clip_fraction        | 0.608     |\n",
      "|    clip_range           | 0.2       |\n",
      "|    entropy_loss         | -1.43     |\n",
      "|    explained_variance   | 0.489     |\n",
      "|    learning_rate        | 0.0003    |\n",
      "|    loss                 | -0.129    |\n",
      "|    n_updates            | 110       |\n",
      "|    policy_gradient_loss | -0.105    |\n",
      "|    value_loss           | 0.0302    |\n",
      "---------------------------------------\n"
     ]
    },
    {
     "name": "stderr",
     "output_type": "stream",
     "text": [
      "/Users/ankitdas/anaconda3/lib/python3.11/site-packages/stable_baselines3/common/evaluation.py:67: UserWarning: Evaluation environment is not wrapped with a ``Monitor`` wrapper. This may result in reporting modified episode lengths and rewards, if other wrappers happen to modify these. Consider wrapping environment first with ``Monitor`` wrapper.\n",
      "  warnings.warn(\n"
     ]
    },
    {
     "name": "stdout",
     "output_type": "stream",
     "text": [
      "Eval num_timesteps=10000, episode_reward=-17.00 +/- 1.90\n",
      "Episode length: 1371.40 +/- 183.01\n",
      "----------------------------------------\n",
      "| eval/                   |            |\n",
      "|    mean_ep_length       | 1.37e+03   |\n",
      "|    mean_reward          | -17        |\n",
      "| time/                   |            |\n",
      "|    total_timesteps      | 10000      |\n",
      "| train/                  |            |\n",
      "|    approx_kl            | 0.18488887 |\n",
      "|    clip_fraction        | 0.626      |\n",
      "|    clip_range           | 0.2        |\n",
      "|    entropy_loss         | -1.35      |\n",
      "|    explained_variance   | 0.49       |\n",
      "|    learning_rate        | 0.0003     |\n",
      "|    loss                 | -0.125     |\n",
      "|    n_updates            | 120        |\n",
      "|    policy_gradient_loss | -0.103     |\n",
      "|    value_loss           | 0.0288     |\n",
      "----------------------------------------\n",
      "New best mean reward!\n",
      "---------------------------------\n",
      "| rollout/           |          |\n",
      "|    ep_len_mean     | 1.12e+03 |\n",
      "|    ep_rew_mean     | -19.4    |\n",
      "| time/              |          |\n",
      "|    fps             | 25       |\n",
      "|    iterations      | 5        |\n",
      "|    time_elapsed    | 405      |\n",
      "|    total_timesteps | 10240    |\n",
      "---------------------------------\n"
     ]
    }
   ],
   "source": [
    "if __name__ == '__main__':  \n",
    "    main()"
   ]
  }
 ],
 "metadata": {
  "kernelspec": {
   "display_name": "Python 3 (ipykernel)",
   "language": "python",
   "name": "python3"
  },
  "language_info": {
   "codemirror_mode": {
    "name": "ipython",
    "version": 3
   },
   "file_extension": ".py",
   "mimetype": "text/x-python",
   "name": "python",
   "nbconvert_exporter": "python",
   "pygments_lexer": "ipython3",
   "version": "3.11.5"
  }
 },
 "nbformat": 4,
 "nbformat_minor": 5
}
