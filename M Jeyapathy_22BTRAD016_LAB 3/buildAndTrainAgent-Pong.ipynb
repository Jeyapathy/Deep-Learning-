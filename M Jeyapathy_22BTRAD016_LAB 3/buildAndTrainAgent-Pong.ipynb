{
 "cells": [
  {
   "cell_type": "code",
   "execution_count": 1,
   "id": "4cd40a3b",
   "metadata": {},
   "outputs": [],
   "source": [
    "import os  \n",
    "import gym  \n",
    "from stable_baselines3 import PPO  \n",
    "from stable_baselines3.common.callbacks import CheckpointCallback, EvalCallback\n",
    "# from ale_py.roms import Pong"
   ]
  },
  {
   "cell_type": "code",
   "execution_count": 2,
   "id": "3e9cbcd2",
   "metadata": {},
   "outputs": [
    {
     "name": "stdout",
     "output_type": "stream",
     "text": [
      "Requirement already satisfied: stable_baselines3 in /Users/ankitdas/anaconda3/lib/python3.11/site-packages (2.2.1)\n",
      "Requirement already satisfied: gymnasium<0.30,>=0.28.1 in /Users/ankitdas/anaconda3/lib/python3.11/site-packages (from stable_baselines3) (0.29.1)\n",
      "Requirement already satisfied: numpy>=1.20 in /Users/ankitdas/anaconda3/lib/python3.11/site-packages (from stable_baselines3) (1.24.3)\n",
      "Requirement already satisfied: torch>=1.13 in /Users/ankitdas/anaconda3/lib/python3.11/site-packages (from stable_baselines3) (2.1.2)\n",
      "Requirement already satisfied: cloudpickle in /Users/ankitdas/anaconda3/lib/python3.11/site-packages (from stable_baselines3) (2.2.1)\n",
      "Requirement already satisfied: pandas in /Users/ankitdas/anaconda3/lib/python3.11/site-packages (from stable_baselines3) (2.0.3)\n",
      "Requirement already satisfied: matplotlib in /Users/ankitdas/anaconda3/lib/python3.11/site-packages (from stable_baselines3) (3.7.2)\n",
      "Requirement already satisfied: typing-extensions>=4.3.0 in /Users/ankitdas/anaconda3/lib/python3.11/site-packages (from gymnasium<0.30,>=0.28.1->stable_baselines3) (4.5.0)\n",
      "Requirement already satisfied: farama-notifications>=0.0.1 in /Users/ankitdas/anaconda3/lib/python3.11/site-packages (from gymnasium<0.30,>=0.28.1->stable_baselines3) (0.0.4)\n",
      "Requirement already satisfied: filelock in /Users/ankitdas/anaconda3/lib/python3.11/site-packages (from torch>=1.13->stable_baselines3) (3.9.0)\n",
      "Requirement already satisfied: sympy in /Users/ankitdas/anaconda3/lib/python3.11/site-packages (from torch>=1.13->stable_baselines3) (1.11.1)\n",
      "Requirement already satisfied: networkx in /Users/ankitdas/anaconda3/lib/python3.11/site-packages (from torch>=1.13->stable_baselines3) (3.1)\n",
      "Requirement already satisfied: jinja2 in /Users/ankitdas/anaconda3/lib/python3.11/site-packages (from torch>=1.13->stable_baselines3) (3.1.2)\n",
      "Requirement already satisfied: fsspec in /Users/ankitdas/anaconda3/lib/python3.11/site-packages (from torch>=1.13->stable_baselines3) (2023.4.0)\n",
      "Requirement already satisfied: contourpy>=1.0.1 in /Users/ankitdas/anaconda3/lib/python3.11/site-packages (from matplotlib->stable_baselines3) (1.0.5)\n",
      "Requirement already satisfied: cycler>=0.10 in /Users/ankitdas/anaconda3/lib/python3.11/site-packages (from matplotlib->stable_baselines3) (0.11.0)\n",
      "Requirement already satisfied: fonttools>=4.22.0 in /Users/ankitdas/anaconda3/lib/python3.11/site-packages (from matplotlib->stable_baselines3) (4.25.0)\n",
      "Requirement already satisfied: kiwisolver>=1.0.1 in /Users/ankitdas/anaconda3/lib/python3.11/site-packages (from matplotlib->stable_baselines3) (1.4.4)\n",
      "Requirement already satisfied: packaging>=20.0 in /Users/ankitdas/anaconda3/lib/python3.11/site-packages (from matplotlib->stable_baselines3) (23.1)\n",
      "Requirement already satisfied: pillow>=6.2.0 in /Users/ankitdas/anaconda3/lib/python3.11/site-packages (from matplotlib->stable_baselines3) (10.0.1)\n",
      "Requirement already satisfied: pyparsing<3.1,>=2.3.1 in /Users/ankitdas/anaconda3/lib/python3.11/site-packages (from matplotlib->stable_baselines3) (3.0.9)\n",
      "Requirement already satisfied: python-dateutil>=2.7 in /Users/ankitdas/anaconda3/lib/python3.11/site-packages (from matplotlib->stable_baselines3) (2.8.2)\n",
      "Requirement already satisfied: pytz>=2020.1 in /Users/ankitdas/anaconda3/lib/python3.11/site-packages (from pandas->stable_baselines3) (2023.3.post1)\n",
      "Requirement already satisfied: tzdata>=2022.1 in /Users/ankitdas/anaconda3/lib/python3.11/site-packages (from pandas->stable_baselines3) (2023.3)\n",
      "Requirement already satisfied: six>=1.5 in /Users/ankitdas/anaconda3/lib/python3.11/site-packages (from python-dateutil>=2.7->matplotlib->stable_baselines3) (1.16.0)\n",
      "Requirement already satisfied: MarkupSafe>=2.0 in /Users/ankitdas/anaconda3/lib/python3.11/site-packages (from jinja2->torch>=1.13->stable_baselines3) (2.1.1)\n",
      "Requirement already satisfied: mpmath>=0.19 in /Users/ankitdas/anaconda3/lib/python3.11/site-packages (from sympy->torch>=1.13->stable_baselines3) (1.3.0)\n",
      "Note: you may need to restart the kernel to use updated packages.\n"
     ]
    }
   ],
   "source": [
    "%pip install stable_baselines3"
   ]
  },
  {
   "cell_type": "code",
   "execution_count": 3,
   "id": "8fee19f5",
   "metadata": {},
   "outputs": [],
   "source": [
    "def create_environment(game_name):  \n",
    "    return gym.make(game_name)  \n",
    "  \n",
    "def create_model(environment):  \n",
    "    return PPO('CnnPolicy', environment, verbose=1)  \n",
    "  \n",
    "def train_model(model, environment, save_path, save_freq):  \n",
    "    checkpoint_callback = CheckpointCallback(save_freq=save_freq, save_path=save_path)  \n",
    "    eval_callback = EvalCallback(environment, best_model_save_path=save_path,  \n",
    "                                 log_path=save_path, eval_freq=save_freq)  \n",
    "    model.learn(total_timesteps=10000, callback=[checkpoint_callback, eval_callback])  "
   ]
  },
  {
   "cell_type": "code",
   "execution_count": 4,
   "id": "811485fc",
   "metadata": {},
   "outputs": [],
   "source": [
    "def main():  \n",
    "    game_name = 'ALE/Pong-v5'  \n",
    "    save_path = 'trained_models/Pong'  \n",
    "    os.makedirs(save_path, exist_ok=True)  \n",
    "  \n",
    "    environment = create_environment(game_name)  \n",
    "    model = create_model(environment)  \n",
    "    train_model(model, environment, save_path, save_freq=10000)  # Adjust save_freq based on your training regime  "
   ]
  },
  {
   "cell_type": "code",
   "execution_count": 5,
   "id": "a06f46d2",
   "metadata": {
    "scrolled": false
   },
   "outputs": [
    {
     "name": "stdout",
     "output_type": "stream",
     "text": [
      "Using cpu device\n",
      "Wrapping the env with a `Monitor` wrapper\n",
      "Wrapping the env in a DummyVecEnv.\n",
      "Wrapping the env in a VecTransposeImage.\n"
     ]
    },
    {
     "name": "stderr",
     "output_type": "stream",
     "text": [
      "A.L.E: Arcade Learning Environment (version 0.8.1+53f58b7)\n",
      "[Powered by Stella]\n",
      "/Users/ankitdas/anaconda3/lib/python3.11/site-packages/stable_baselines3/common/vec_env/patch_gym.py:49: UserWarning: You provided an OpenAI Gym environment. We strongly recommend transitioning to Gymnasium environments. Stable-Baselines3 is automatically wrapping your environments in a compatibility layer, which could potentially cause issues.\n",
      "  warnings.warn(\n",
      "/Users/ankitdas/anaconda3/lib/python3.11/site-packages/stable_baselines3/common/vec_env/patch_gym.py:49: UserWarning: You provided an OpenAI Gym environment. We strongly recommend transitioning to Gymnasium environments. Stable-Baselines3 is automatically wrapping your environments in a compatibility layer, which could potentially cause issues.\n",
      "  warnings.warn(\n",
      "/Users/ankitdas/anaconda3/lib/python3.11/site-packages/stable_baselines3/common/callbacks.py:414: UserWarning: Training and eval env are not of the same type<stable_baselines3.common.vec_env.vec_transpose.VecTransposeImage object at 0x2978e7a50> != <stable_baselines3.common.vec_env.dummy_vec_env.DummyVecEnv object at 0x29760e210>\n",
      "  warnings.warn(\"Training and eval env are not of the same type\" f\"{self.training_env} != {self.eval_env}\")\n",
      "/Users/ankitdas/anaconda3/lib/python3.11/site-packages/gym/utils/passive_env_checker.py:233: DeprecationWarning: `np.bool8` is a deprecated alias for `np.bool_`.  (Deprecated NumPy 1.24)\n",
      "  if not isinstance(terminated, (bool, np.bool8)):\n"
     ]
    },
    {
     "name": "stdout",
     "output_type": "stream",
     "text": [
      "---------------------------------\n",
      "| rollout/           |          |\n",
      "|    ep_len_mean     | 935      |\n",
      "|    ep_rew_mean     | -20.5    |\n",
      "| time/              |          |\n",
      "|    fps             | 342      |\n",
      "|    iterations      | 1        |\n",
      "|    time_elapsed    | 5        |\n",
      "|    total_timesteps | 2048     |\n",
      "---------------------------------\n",
      "------------------------------------------\n",
      "| rollout/                |              |\n",
      "|    ep_len_mean          | 958          |\n",
      "|    ep_rew_mean          | -20.5        |\n",
      "| time/                   |              |\n",
      "|    fps                  | 36           |\n",
      "|    iterations           | 2            |\n",
      "|    time_elapsed         | 111          |\n",
      "|    total_timesteps      | 4096         |\n",
      "| train/                  |              |\n",
      "|    approx_kl            | 0.0077355867 |\n",
      "|    clip_fraction        | 0.0365       |\n",
      "|    clip_range           | 0.2          |\n",
      "|    entropy_loss         | -1.79        |\n",
      "|    explained_variance   | -0.00112     |\n",
      "|    learning_rate        | 0.0003       |\n",
      "|    loss                 | 0.0255       |\n",
      "|    n_updates            | 10           |\n",
      "|    policy_gradient_loss | -0.00254     |\n",
      "|    value_loss           | 0.214        |\n",
      "------------------------------------------\n",
      "-----------------------------------------\n",
      "| rollout/                |             |\n",
      "|    ep_len_mean          | 980         |\n",
      "|    ep_rew_mean          | -20.2       |\n",
      "| time/                   |             |\n",
      "|    fps                  | 28          |\n",
      "|    iterations           | 3           |\n",
      "|    time_elapsed         | 213         |\n",
      "|    total_timesteps      | 6144        |\n",
      "| train/                  |             |\n",
      "|    approx_kl            | 0.013211036 |\n",
      "|    clip_fraction        | 0.105       |\n",
      "|    clip_range           | 0.2         |\n",
      "|    entropy_loss         | -1.78       |\n",
      "|    explained_variance   | 0.38        |\n",
      "|    learning_rate        | 0.0003      |\n",
      "|    loss                 | -0.0204     |\n",
      "|    n_updates            | 20          |\n",
      "|    policy_gradient_loss | -0.0193     |\n",
      "|    value_loss           | 0.0517      |\n",
      "-----------------------------------------\n",
      "----------------------------------------\n",
      "| rollout/                |            |\n",
      "|    ep_len_mean          | 970        |\n",
      "|    ep_rew_mean          | -20.1      |\n",
      "| time/                   |            |\n",
      "|    fps                  | 25         |\n",
      "|    iterations           | 4          |\n",
      "|    time_elapsed         | 316        |\n",
      "|    total_timesteps      | 8192       |\n",
      "| train/                  |            |\n",
      "|    approx_kl            | 0.03277886 |\n",
      "|    clip_fraction        | 0.263      |\n",
      "|    clip_range           | 0.2        |\n",
      "|    entropy_loss         | -1.76      |\n",
      "|    explained_variance   | 0.42       |\n",
      "|    learning_rate        | 0.0003     |\n",
      "|    loss                 | -0.093     |\n",
      "|    n_updates            | 30         |\n",
      "|    policy_gradient_loss | -0.0553    |\n",
      "|    value_loss           | 0.0516     |\n",
      "----------------------------------------\n"
     ]
    },
    {
     "name": "stderr",
     "output_type": "stream",
     "text": [
      "/Users/ankitdas/anaconda3/lib/python3.11/site-packages/stable_baselines3/common/evaluation.py:67: UserWarning: Evaluation environment is not wrapped with a ``Monitor`` wrapper. This may result in reporting modified episode lengths and rewards, if other wrappers happen to modify these. Consider wrapping environment first with ``Monitor`` wrapper.\n",
      "  warnings.warn(\n"
     ]
    },
    {
     "name": "stdout",
     "output_type": "stream",
     "text": [
      "Eval num_timesteps=10000, episode_reward=-19.80 +/- 0.75\n",
      "Episode length: 941.60 +/- 103.00\n",
      "-----------------------------------------\n",
      "| eval/                   |             |\n",
      "|    mean_ep_length       | 942         |\n",
      "|    mean_reward          | -19.8       |\n",
      "| time/                   |             |\n",
      "|    total_timesteps      | 10000       |\n",
      "| train/                  |             |\n",
      "|    approx_kl            | 0.044629365 |\n",
      "|    clip_fraction        | 0.375       |\n",
      "|    clip_range           | 0.2         |\n",
      "|    entropy_loss         | -1.72       |\n",
      "|    explained_variance   | 0.539       |\n",
      "|    learning_rate        | 0.0003      |\n",
      "|    loss                 | -0.101      |\n",
      "|    n_updates            | 40          |\n",
      "|    policy_gradient_loss | -0.0748     |\n",
      "|    value_loss           | 0.0332      |\n",
      "-----------------------------------------\n",
      "New best mean reward!\n",
      "---------------------------------\n",
      "| rollout/           |          |\n",
      "|    ep_len_mean     | 999      |\n",
      "|    ep_rew_mean     | -19.9    |\n",
      "| time/              |          |\n",
      "|    fps             | 23       |\n",
      "|    iterations      | 5        |\n",
      "|    time_elapsed    | 443      |\n",
      "|    total_timesteps | 10240    |\n",
      "---------------------------------\n"
     ]
    }
   ],
   "source": [
    "if __name__ == '__main__':  \n",
    "    main()"
   ]
  }
 ],
 "metadata": {
  "kernelspec": {
   "display_name": "Python 3 (ipykernel)",
   "language": "python",
   "name": "python3"
  },
  "language_info": {
   "codemirror_mode": {
    "name": "ipython",
    "version": 3
   },
   "file_extension": ".py",
   "mimetype": "text/x-python",
   "name": "python",
   "nbconvert_exporter": "python",
   "pygments_lexer": "ipython3",
   "version": "3.11.5"
  }
 },
 "nbformat": 4,
 "nbformat_minor": 5
}
